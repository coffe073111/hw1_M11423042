{
 "cells": [
  {
   "cell_type": "code",
   "execution_count": 3,
   "id": "31e28576-341e-4755-9912-d6d71b26870a",
   "metadata": {},
   "outputs": [],
   "source": [
    "import pandas as pd\n",
    "\n",
    "data = pd.read_csv(\"adult.data.csv\")"
   ]
  },
  {
   "cell_type": "code",
   "execution_count": 4,
   "id": "600aa3d2-3ecf-4e39-bbc5-d096484b20b0",
   "metadata": {},
   "outputs": [
    {
     "data": {
      "text/plain": [
       "(32561, 15)"
      ]
     },
     "execution_count": 4,
     "metadata": {},
     "output_type": "execute_result"
    }
   ],
   "source": [
    "data.shape# 看看資料有幾筆、幾個欄位"
   ]
  },
  {
   "cell_type": "code",
   "execution_count": 5,
   "id": "65182b4b-38f1-46e4-9cbc-7526243b5923",
   "metadata": {},
   "outputs": [],
   "source": [
    "# 設定欄位名稱\n",
    "columns = [\n",
    "    'age', 'workclass', 'fnlwgt', 'education', 'education-num', 'marital-status',\n",
    "    'occupation', 'relationship', 'race', 'sex', 'capital-gain', 'capital-loss',\n",
    "    'hours-per-week', 'native-country', 'calss'\n",
    "]\n",
    "data.columns = columns"
   ]
  },
  {
   "cell_type": "code",
   "execution_count": 6,
   "id": "ca623c8d-39ec-460c-af41-11913bd712d3",
   "metadata": {},
   "outputs": [
    {
     "data": {
      "text/plain": [
       "np.int64(24)"
      ]
     },
     "execution_count": 6,
     "metadata": {},
     "output_type": "execute_result"
    }
   ],
   "source": [
    "data.duplicated().sum()"
   ]
  },
  {
   "cell_type": "code",
   "execution_count": 7,
   "id": "6aecd8dd-c55c-4109-b736-076dcc0d1455",
   "metadata": {},
   "outputs": [
    {
     "name": "stdout",
     "output_type": "stream",
     "text": [
      "重複索引： []\n",
      "重複欄名： []\n"
     ]
    },
    {
     "data": {
      "text/plain": [
       "Series([], Name: count, dtype: int64)"
      ]
     },
     "execution_count": 7,
     "metadata": {},
     "output_type": "execute_result"
    }
   ],
   "source": [
    "data.index.has_duplicates\n",
    "data.columns.has_duplicates\n",
    "data.index.duplicated()\n",
    "data.columns.duplicated()\n",
    "dup_index_vals = data.index[data.index.duplicated()].unique()\n",
    "dup_col_vals   = data.columns[data.columns.duplicated()].unique()\n",
    "print(\"重複索引：\", dup_index_vals.tolist())\n",
    "print(\"重複欄名：\", dup_col_vals.tolist())\n",
    "data.index.value_counts()[lambda s: s > 1]\n",
    "data.columns.value_counts()[lambda s: s > 1]"
   ]
  },
  {
   "cell_type": "code",
   "execution_count": 8,
   "id": "f528f157-7336-42c6-a377-f04662ecf180",
   "metadata": {},
   "outputs": [
    {
     "data": {
      "text/html": [
       "<div>\n",
       "<style scoped>\n",
       "    .dataframe tbody tr th:only-of-type {\n",
       "        vertical-align: middle;\n",
       "    }\n",
       "\n",
       "    .dataframe tbody tr th {\n",
       "        vertical-align: top;\n",
       "    }\n",
       "\n",
       "    .dataframe thead th {\n",
       "        text-align: right;\n",
       "    }\n",
       "</style>\n",
       "<table border=\"1\" class=\"dataframe\">\n",
       "  <thead>\n",
       "    <tr style=\"text-align: right;\">\n",
       "      <th></th>\n",
       "      <th>age</th>\n",
       "      <th>workclass</th>\n",
       "      <th>fnlwgt</th>\n",
       "      <th>education</th>\n",
       "      <th>education-num</th>\n",
       "      <th>marital-status</th>\n",
       "      <th>occupation</th>\n",
       "      <th>relationship</th>\n",
       "      <th>race</th>\n",
       "      <th>sex</th>\n",
       "      <th>capital-gain</th>\n",
       "      <th>capital-loss</th>\n",
       "      <th>hours-per-week</th>\n",
       "      <th>native-country</th>\n",
       "      <th>calss</th>\n",
       "    </tr>\n",
       "  </thead>\n",
       "  <tbody>\n",
       "    <tr>\n",
       "      <th>0</th>\n",
       "      <td>39</td>\n",
       "      <td>State-gov</td>\n",
       "      <td>77516</td>\n",
       "      <td>Bachelors</td>\n",
       "      <td>13</td>\n",
       "      <td>Never-married</td>\n",
       "      <td>Adm-clerical</td>\n",
       "      <td>Not-in-family</td>\n",
       "      <td>White</td>\n",
       "      <td>Male</td>\n",
       "      <td>2174</td>\n",
       "      <td>0</td>\n",
       "      <td>40</td>\n",
       "      <td>United-States</td>\n",
       "      <td>&lt;=50K</td>\n",
       "    </tr>\n",
       "    <tr>\n",
       "      <th>1</th>\n",
       "      <td>50</td>\n",
       "      <td>Self-emp-not-inc</td>\n",
       "      <td>83311</td>\n",
       "      <td>Bachelors</td>\n",
       "      <td>13</td>\n",
       "      <td>Married-civ-spouse</td>\n",
       "      <td>Exec-managerial</td>\n",
       "      <td>Husband</td>\n",
       "      <td>White</td>\n",
       "      <td>Male</td>\n",
       "      <td>0</td>\n",
       "      <td>0</td>\n",
       "      <td>13</td>\n",
       "      <td>United-States</td>\n",
       "      <td>&lt;=50K</td>\n",
       "    </tr>\n",
       "    <tr>\n",
       "      <th>2</th>\n",
       "      <td>38</td>\n",
       "      <td>Private</td>\n",
       "      <td>215646</td>\n",
       "      <td>HS-grad</td>\n",
       "      <td>9</td>\n",
       "      <td>Divorced</td>\n",
       "      <td>Handlers-cleaners</td>\n",
       "      <td>Not-in-family</td>\n",
       "      <td>White</td>\n",
       "      <td>Male</td>\n",
       "      <td>0</td>\n",
       "      <td>0</td>\n",
       "      <td>40</td>\n",
       "      <td>United-States</td>\n",
       "      <td>&lt;=50K</td>\n",
       "    </tr>\n",
       "    <tr>\n",
       "      <th>3</th>\n",
       "      <td>53</td>\n",
       "      <td>Private</td>\n",
       "      <td>234721</td>\n",
       "      <td>11th</td>\n",
       "      <td>7</td>\n",
       "      <td>Married-civ-spouse</td>\n",
       "      <td>Handlers-cleaners</td>\n",
       "      <td>Husband</td>\n",
       "      <td>Black</td>\n",
       "      <td>Male</td>\n",
       "      <td>0</td>\n",
       "      <td>0</td>\n",
       "      <td>40</td>\n",
       "      <td>United-States</td>\n",
       "      <td>&lt;=50K</td>\n",
       "    </tr>\n",
       "    <tr>\n",
       "      <th>4</th>\n",
       "      <td>28</td>\n",
       "      <td>Private</td>\n",
       "      <td>338409</td>\n",
       "      <td>Bachelors</td>\n",
       "      <td>13</td>\n",
       "      <td>Married-civ-spouse</td>\n",
       "      <td>Prof-specialty</td>\n",
       "      <td>Wife</td>\n",
       "      <td>Black</td>\n",
       "      <td>Female</td>\n",
       "      <td>0</td>\n",
       "      <td>0</td>\n",
       "      <td>40</td>\n",
       "      <td>Cuba</td>\n",
       "      <td>&lt;=50K</td>\n",
       "    </tr>\n",
       "  </tbody>\n",
       "</table>\n",
       "</div>"
      ],
      "text/plain": [
       "   age          workclass  fnlwgt   education  education-num  \\\n",
       "0   39          State-gov   77516   Bachelors             13   \n",
       "1   50   Self-emp-not-inc   83311   Bachelors             13   \n",
       "2   38            Private  215646     HS-grad              9   \n",
       "3   53            Private  234721        11th              7   \n",
       "4   28            Private  338409   Bachelors             13   \n",
       "\n",
       "        marital-status          occupation    relationship    race      sex  \\\n",
       "0        Never-married        Adm-clerical   Not-in-family   White     Male   \n",
       "1   Married-civ-spouse     Exec-managerial         Husband   White     Male   \n",
       "2             Divorced   Handlers-cleaners   Not-in-family   White     Male   \n",
       "3   Married-civ-spouse   Handlers-cleaners         Husband   Black     Male   \n",
       "4   Married-civ-spouse      Prof-specialty            Wife   Black   Female   \n",
       "\n",
       "   capital-gain  capital-loss  hours-per-week  native-country   calss  \n",
       "0          2174             0              40   United-States   <=50K  \n",
       "1             0             0              13   United-States   <=50K  \n",
       "2             0             0              40   United-States   <=50K  \n",
       "3             0             0              40   United-States   <=50K  \n",
       "4             0             0              40            Cuba   <=50K  "
      ]
     },
     "execution_count": 8,
     "metadata": {},
     "output_type": "execute_result"
    }
   ],
   "source": [
    "data.head(5)"
   ]
  },
  {
   "cell_type": "code",
   "execution_count": 9,
   "id": "6bbf64f5-10c3-46cf-85af-20ee40203d86",
   "metadata": {},
   "outputs": [],
   "source": [
    "data = data.apply(lambda x: x.str.strip() if x.dtype == \"object\" else x)"
   ]
  },
  {
   "cell_type": "code",
   "execution_count": 10,
   "id": "b9911863-3dba-4b5e-8220-f0752b17710c",
   "metadata": {},
   "outputs": [],
   "source": [
    "data = data.apply(\n",
    "    lambda x: x.str.replace(r'\\s+', ' ', regex=True).str.strip() if x.dtype == \"object\" else x\n",
    ")"
   ]
  },
  {
   "cell_type": "code",
   "execution_count": 18,
   "id": "d261e197-a5ca-4b8a-b740-459245b9867b",
   "metadata": {},
   "outputs": [],
   "source": [
    "numeric_cols = ['age', 'fnlwgt', 'education-num', 'capital-gain', 'capital-loss', 'hours-per-week']\n",
    "data[numeric_cols] = data[numeric_cols].apply(pd.to_numeric, errors='coerce')"
   ]
  },
  {
   "cell_type": "code",
   "execution_count": 31,
   "id": "af91ca5e-1be0-4465-b8b0-77049d42c3d8",
   "metadata": {},
   "outputs": [
    {
     "name": "stdout",
     "output_type": "stream",
     "text": [
      "A) 重複列（群內所有列皆計） n_dup_all = 47\n",
      "B) 多出來的列（每組 k 計 k-1） n_dup_excess = 24\n",
      "C) 重複群組數 n_groups = 23\n",
      "C') 各組 group_size 加總 = 47 (應等於 A)\n",
      "\n",
      "=== Group 1 | size=3 | indices=[5843, 13085, 22301] ===\n",
      " row_index  0        1      2        3 4              5                6              7      8       9 10 11 12         13     14  count\n",
      "      5843 25  Private 195994  1st-4th 2  Never-married  Priv-house-serv  Not-in-family  White  Female  0  0 40  Guatemala  <=50K      3\n",
      "     13085 25  Private 195994  1st-4th 2  Never-married  Priv-house-serv  Not-in-family  White  Female  0  0 40  Guatemala  <=50K      3\n",
      "     22301 25  Private 195994  1st-4th 2  Never-married  Priv-house-serv  Not-in-family  White  Female  0  0 40  Guatemala  <=50K      3\n",
      "\n",
      "=== Group 2 | size=2 | indices=[17674, 18699] ===\n",
      " row_index  0        1     2        3 4              5                6              7      8     9 10 11 12             13     14  count\n",
      "     17674 19  Private 97261  HS-grad 9  Never-married  Farming-fishing  Not-in-family  White  Male  0  0 40  United-States  <=50K      2\n",
      "     18699 19  Private 97261  HS-grad 9  Never-married  Farming-fishing  Not-in-family  White  Male  0  0 40  United-States  <=50K      2\n",
      "\n",
      "=== Group 3 | size=2 | indices=[15190, 21491] ===\n",
      " row_index  0        1      2             3  4              5                6          7      8     9 10 11 12             13     14  count\n",
      "     15190 19  Private 146679  Some-college 10  Never-married  Exec-managerial  Own-child  Black  Male  0  0 30  United-States  <=50K      2\n",
      "     21491 19  Private 146679  Some-college 10  Never-married  Exec-managerial  Own-child  Black  Male  0  0 30  United-States  <=50K      2\n",
      "\n",
      "=== Group 4 | size=2 | indices=[6991, 21319] ===\n",
      " row_index  0        1      2             3  4              5             6          7      8       9 10 11 12             13     14  count\n",
      "      6991 19  Private 138153  Some-college 10  Never-married  Adm-clerical  Own-child  White  Female  0  0 10  United-States  <=50K      2\n",
      "     21319 19  Private 138153  Some-college 10  Never-married  Adm-clerical  Own-child  White  Female  0  0 10  United-States  <=50K      2\n",
      "\n",
      "=== Group 5 | size=2 | indices=[4326, 4882] ===\n",
      " row_index  0        1      2          3  4              5             6              7      8     9 10 11 12      13     14  count\n",
      "      4326 25  Private 308144  Bachelors 13  Never-married  Craft-repair  Not-in-family  White  Male  0  0 40  Mexico  <=50K      2\n",
      "      4882 25  Private 308144  Bachelors 13  Never-married  Craft-repair  Not-in-family  White  Male  0  0 40  Mexico  <=50K      2\n",
      "\n",
      "=== Group 6 | size=2 | indices=[5580, 28231] ===\n",
      " row_index  0        1      2        3 4              5                  6              7      8       9 10 11 12             13     14  count\n",
      "      5580 27  Private 255582  HS-grad 9  Never-married  Machine-op-inspct  Not-in-family  White  Female  0  0 40  United-States  <=50K      2\n",
      "     28231 27  Private 255582  HS-grad 9  Never-married  Machine-op-inspct  Not-in-family  White  Female  0  0 40  United-States  <=50K      2\n",
      "\n",
      "=== Group 7 | size=2 | indices=[21104, 25873] ===\n",
      " row_index  0        1      2        3 4              5                  6              7      8     9 10 11 12      13     14  count\n",
      "     21104 23  Private 240137  5th-6th 3  Never-married  Handlers-cleaners  Not-in-family  White  Male  0  0 55  Mexico  <=50K      2\n",
      "     25873 23  Private 240137  5th-6th 3  Never-married  Handlers-cleaners  Not-in-family  White  Male  0  0 55  Mexico  <=50K      2\n",
      "\n",
      "=== Group 8 | size=2 | indices=[16847, 32405] ===\n",
      " row_index  0        1      2        3 4         5              6              7      8       9 10 11 12             13     14  count\n",
      "     16847 35  Private 379959  HS-grad 9  Divorced  Other-service  Not-in-family  White  Female  0  0 40  United-States  <=50K      2\n",
      "     32405 35  Private 379959  HS-grad 9  Divorced  Other-service  Not-in-family  White  Female  0  0 40  United-States  <=50K      2\n",
      "\n",
      "=== Group 9 | size=2 | indices=[8081, 15060] ===\n",
      " row_index  0        1      2          3 4              5                6              7      8     9 10 11 12      13     14  count\n",
      "      8081 21  Private 243368  Preschool 1  Never-married  Farming-fishing  Not-in-family  White  Male  0  0 50  Mexico  <=50K      2\n",
      "     15060 21  Private 243368  Preschool 1  Never-married  Farming-fishing  Not-in-family  White  Male  0  0 50  Mexico  <=50K      2\n",
      "\n",
      "=== Group 10 | size=2 | indices=[3918, 31994] ===\n",
      " row_index  0        1      2             3  4              5              6          7      8     9 10 11 12             13     14  count\n",
      "      3918 19  Private 251579  Some-college 10  Never-married  Other-service  Own-child  White  Male  0  0 14  United-States  <=50K      2\n",
      "     31994 19  Private 251579  Some-college 10  Never-married  Other-service  Own-child  White  Male  0  0 14  United-States  <=50K      2\n",
      "\n",
      "=== Group 11 | size=2 | indices=[8680, 26314] ===\n",
      " row_index  0        1      2        3  4              5               6              7      8     9 10 11 12             13     14  count\n",
      "      8680 28  Private 274679  Masters 14  Never-married  Prof-specialty  Not-in-family  White  Male  0  0 50  United-States  <=50K      2\n",
      "     26314 28  Private 274679  Masters 14  Never-married  Prof-specialty  Not-in-family  White  Male  0  0 50  United-States  <=50K      2\n",
      "\n",
      "=== Group 12 | size=2 | indices=[4768, 9172] ===\n",
      " row_index  0        1      2             3  4              5               6          7      8       9 10 11 12             13     14  count\n",
      "      4768 21  Private 250051  Some-college 10  Never-married  Prof-specialty  Own-child  White  Female  0  0 10  United-States  <=50K      2\n",
      "      9172 21  Private 250051  Some-college 10  Never-married  Prof-specialty  Own-child  White  Female  0  0 10  United-States  <=50K      2\n",
      "\n",
      "=== Group 13 | size=2 | indices=[5806, 11632] ===\n",
      " row_index  0        1      2             3  4              5             6              7      8       9 10 11 12             13     14  count\n",
      "      5806 20  Private 107658  Some-college 10  Never-married  Tech-support  Not-in-family  White  Female  0  0 10  United-States  <=50K      2\n",
      "     11632 20  Private 107658  Some-college 10  Never-married  Tech-support  Not-in-family  White  Female  0  0 10  United-States  <=50K      2\n",
      "\n",
      "=== Group 14 | size=2 | indices=[16976, 18556] ===\n",
      " row_index  0        1      2        3 4              5              6              7      8     9 10 11 12 13     14  count\n",
      "     16976 30  Private 144593  HS-grad 9  Never-married  Other-service  Not-in-family  Black  Male  0  0 40  ?  <=50K      2\n",
      "     18556 30  Private 144593  HS-grad 9  Never-married  Other-service  Not-in-family  Black  Male  0  0 40  ?  <=50K      2\n",
      "\n",
      "=== Group 15 | size=2 | indices=[4941, 29158] ===\n",
      " row_index  0        1      2        3 4                   5                  6        7      8     9 10 11 12             13    14  count\n",
      "      4941 38  Private 207202  HS-grad 9  Married-civ-spouse  Machine-op-inspct  Husband  White  Male  0  0 48  United-States  >50K      2\n",
      "     29158 38  Private 207202  HS-grad 9  Married-civ-spouse  Machine-op-inspct  Husband  White  Male  0  0 48  United-States  >50K      2\n",
      "\n",
      "=== Group 16 | size=2 | indices=[25625, 28847] ===\n",
      " row_index  0        1     2        3 4                   5             6        7      8     9 10 11 12             13     14  count\n",
      "     25625 39  Private 30916  HS-grad 9  Married-civ-spouse  Craft-repair  Husband  White  Male  0  0 40  United-States  <=50K      2\n",
      "     28847 39  Private 30916  HS-grad 9  Married-civ-spouse  Craft-repair  Husband  White  Male  0  0 40  United-States  <=50K      2\n",
      "\n",
      "=== Group 17 | size=2 | indices=[10368, 28523] ===\n",
      " row_index  0        1      2             3  4                   5               6        7      8     9 10 11 12             13    14  count\n",
      "     10368 42  Private 204235  Some-college 10  Married-civ-spouse  Prof-specialty  Husband  White  Male  0  0 40  United-States  >50K      2\n",
      "     28523 42  Private 204235  Some-college 10  Married-civ-spouse  Prof-specialty  Husband  White  Male  0  0 40  United-States  >50K      2\n",
      "\n",
      "=== Group 18 | size=2 | indices=[17917, 22368] ===\n",
      " row_index  0        1      2          3  4              5               6              7      8       9 10 11 12      13     14  count\n",
      "     17917 44  Private 367749  Bachelors 13  Never-married  Prof-specialty  Not-in-family  White  Female  0  0 45  Mexico  <=50K      2\n",
      "     22368 44  Private 367749  Bachelors 13  Never-married  Prof-specialty  Not-in-family  White  Female  0  0 45  Mexico  <=50K      2\n",
      "\n",
      "=== Group 19 | size=2 | indices=[11966, 30846] ===\n",
      " row_index  0        1      2             3  4         5             6          7      8       9 10 11 12             13     14  count\n",
      "     11966 46  Private 133616  Some-college 10  Divorced  Adm-clerical  Unmarried  White  Female  0  0 40  United-States  <=50K      2\n",
      "     30846 46  Private 133616  Some-college 10  Divorced  Adm-clerical  Unmarried  White  Female  0  0 40  United-States  <=50K      2\n",
      "\n",
      "=== Group 20 | size=2 | indices=[16298, 17041] ===\n",
      " row_index  0        1      2        3 4                   5             6        7      8     9 10 11 12             13     14  count\n",
      "     16298 46  Private 173243  HS-grad 9  Married-civ-spouse  Craft-repair  Husband  White  Male  0  0 40  United-States  <=50K      2\n",
      "     17041 46  Private 173243  HS-grad 9  Married-civ-spouse  Craft-repair  Husband  White  Male  0  0 40  United-States  <=50K      2\n",
      "\n",
      "=== Group 21 | size=2 | indices=[7921, 21876] ===\n",
      " row_index  0        1     2        3 4                   5             6        7      8     9 10 11 12             13     14  count\n",
      "      7921 49  Private 31267  7th-8th 4  Married-civ-spouse  Craft-repair  Husband  White  Male  0  0 40  United-States  <=50K      2\n",
      "     21876 49  Private 31267  7th-8th 4  Married-civ-spouse  Craft-repair  Husband  White  Male  0  0 40  United-States  <=50K      2\n",
      "\n",
      "=== Group 22 | size=2 | indices=[7054, 22495] ===\n",
      " row_index  0                 1     2             3  4                   5             6        7      8     9 10 11 12             13     14  count\n",
      "      7054 49  Self-emp-not-inc 43479  Some-college 10  Married-civ-spouse  Craft-repair  Husband  White  Male  0  0 40  United-States  <=50K      2\n",
      "     22495 49  Self-emp-not-inc 43479  Some-college 10  Married-civ-spouse  Craft-repair  Husband  White  Male  0  0 40  United-States  <=50K      2\n",
      "\n",
      "=== Group 23 | size=2 | indices=[2304, 5105] ===\n",
      " row_index  0        1     2             3  4              5              6              7                   8     9 10 11 12             13     14  count\n",
      "      2304 90  Private 52386  Some-college 10  Never-married  Other-service  Not-in-family  Asian-Pac-Islander  Male  0  0 35  United-States  <=50K      2\n",
      "      5105 90  Private 52386  Some-college 10  Never-married  Other-service  Not-in-family  Asian-Pac-Islander  Male  0  0 35  United-States  <=50K      2\n"
     ]
    }
   ],
   "source": [
    "df_raw = pd.read_csv(CSV, header=None, na_filter=False, dtype=str)\n",
    "ncol = df_raw.shape[1]\n",
    "all_cols = list(range(ncol))\n",
    "CSV = \"adult.data.csv\"\n",
    "import numpy as np\n",
    "all_cols = list(range(df_raw.shape[1]))\n",
    "vc = df_raw.value_counts().reset_index(name=\"count\")\n",
    "dups = vc[vc[\"count\"] > 1].copy()\n",
    "dups[\"group_id\"] = np.arange(1, len(dups) + 1)\n",
    "\n",
    "dup_groups_members = (\n",
    "    df_raw.reset_index(names=\"row_index\")\n",
    "          .merge(dups, on=all_cols, how=\"inner\")\n",
    "          .sort_values([\"group_id\", \"row_index\"], kind=\"mergesort\")\n",
    ")\n",
    "\n",
    "dup_groups_summary = (\n",
    "    dup_groups_members\n",
    "    .groupby(\"group_id\", as_index=False)\n",
    "    .agg(\n",
    "        group_size=(\"row_index\", \"size\"),\n",
    "        indices=(\"row_index\", lambda s: list(s))\n",
    "    )\n",
    ")\n",
    "n_dup_all = int(dup_groups_members.shape[0])\n",
    "n_dup_excess = int(df_raw.duplicated(keep='first').sum())\n",
    "n_groups = int(dup_groups_summary.shape[0])\n",
    "sum_group_sizes = int(dup_groups_summary[\"group_size\"].sum())\n",
    "\n",
    "print(\"A) 重複列（群內所有列皆計） n_dup_all =\", n_dup_all)\n",
    "print(\"B) 多出來的列（每組 k 計 k-1） n_dup_excess =\", n_dup_excess)\n",
    "print(\"C) 重複群組數 n_groups =\", n_groups)\n",
    "print(\"C') 各組 group_size 加總 =\", sum_group_sizes, \"(應等於 A)\")\n",
    "pd.set_option(\"display.max_columns\", None)\n",
    "pd.set_option(\"display.width\", 160)\n",
    "\n",
    "for gid, sub in dup_groups_members.groupby(\"group_id\", sort=True):\n",
    "    idxs = sub[\"row_index\"].tolist()\n",
    "    print(f\"\\n=== Group {gid} | size={len(sub)} | indices={idxs} ===\")\n",
    "    # 列出該組的每一列（移除 group_id 欄，保留原始各欄與 row_index）\n",
    "    print(sub.drop(columns=[\"group_id\"]).to_string(index=False))"
   ]
  },
  {
   "cell_type": "code",
   "execution_count": 23,
   "id": "6980ace3-d107-424a-8398-a2f558d2b80c",
   "metadata": {},
   "outputs": [],
   "source": [
    "data = data.drop_duplicates()"
   ]
  },
  {
   "cell_type": "code",
   "execution_count": 24,
   "id": "1bba3270-eb46-43e9-94a2-802ef352e4d2",
   "metadata": {},
   "outputs": [
    {
     "data": {
      "text/plain": [
       "np.int64(0)"
      ]
     },
     "execution_count": 24,
     "metadata": {},
     "output_type": "execute_result"
    }
   ],
   "source": [
    "data.duplicated().sum()"
   ]
  },
  {
   "cell_type": "code",
   "execution_count": 32,
   "id": "c186304a-6c6b-4981-ad87-1352fb0497a1",
   "metadata": {},
   "outputs": [
    {
     "data": {
      "text/plain": [
       "(32561, 15)"
      ]
     },
     "execution_count": 32,
     "metadata": {},
     "output_type": "execute_result"
    }
   ],
   "source": [
    "data.shape# 看看資料有幾筆、幾個欄位"
   ]
  },
  {
   "cell_type": "code",
   "execution_count": null,
   "id": "8b6d242d-23d0-4c8a-86a1-7837254c41b0",
   "metadata": {},
   "outputs": [],
   "source": []
  }
 ],
 "metadata": {
  "kernelspec": {
   "display_name": "Python [conda env:base] *",
   "language": "python",
   "name": "conda-base-py"
  },
  "language_info": {
   "codemirror_mode": {
    "name": "ipython",
    "version": 3
   },
   "file_extension": ".py",
   "mimetype": "text/x-python",
   "name": "python",
   "nbconvert_exporter": "python",
   "pygments_lexer": "ipython3",
   "version": "3.13.5"
  }
 },
 "nbformat": 4,
 "nbformat_minor": 5
}
