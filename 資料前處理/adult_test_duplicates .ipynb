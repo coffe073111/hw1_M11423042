{
 "cells": [
  {
   "cell_type": "code",
   "execution_count": 3,
   "id": "cd153c9c-1d82-4c28-9b5b-82fd18374414",
   "metadata": {},
   "outputs": [],
   "source": [
   "# 讀取 Adult 資料集，並以 pandas DataFrame 儲存\n",
    "import pandas as pd\n",
    "\n",
    "data = pd.read_csv(\"adult.test.csv\")"
   ]
  },
  {
   "cell_type": "code",
   "execution_count": 4,
   "id": "8f3f2841-2c59-4988-ac5d-c9aa76e812fe",
   "metadata": {},
   "outputs": [
    {
     "data": {
      "text/plain": [
       "(16281, 15)"
      ]
     },
     "execution_count": 4,
     "metadata": {},
     "output_type": "execute_result"
    }
   ],
   "source": [
   "# 看看資料有幾筆、幾個欄位\n",
    "data.shape"
   ]
  },
  {
   "cell_type": "code",
   "execution_count": 5,
   "id": "7ebd8fa7-84a6-499b-b96d-64a691fd39b3",
   "metadata": {},
   "outputs": [
    {
     "data": {
      "text/plain": [
       "np.int64(5)"
      ]
     },
     "execution_count": 5,
     "metadata": {},
     "output_type": "execute_result"
    }
   ],
   "source": [
    "# 設定欄位名稱\n",
    "columns = [\n",
    "    'age', 'workclass', 'fnlwgt', 'education', 'education-num', 'marital-status',\n",
    "    'occupation', 'relationship', 'race', 'sex', 'capital-gain', 'capital-loss',\n",
    "    'hours-per-week', 'native-country', 'calss'\n",
    "]\n",
    "data.columns = columns\n",
    "data.duplicated().sum()"
   ]
  },
  {
   "cell_type": "code",
   "execution_count": 6,
   "id": "ca9d69d6-b6ca-4eb4-8083-d5f806139acf",
   "metadata": {},
   "outputs": [],
   "source": [
   "# 去除所有字串欄位前後的空白\n",
    "data = data.apply(lambda x: x.str.strip() if x.dtype == \"object\" else x)"
   ]
  },
  {
   "cell_type": "code",
   "execution_count": 7,
   "id": "a8f9333b-92dc-4bff-91d6-0ff685733f5a",
   "metadata": {},
   "outputs": [],
   "source": [
   "# 將多重空白合併為單一空白，並再次清理字串空白\n",
    "data = data.apply(\n",
    "    lambda x: x.str.replace(r'\\s+', ' ', regex=True).str.strip() if x.dtype == \"object\" else x\n",
    ")"
   ]
  },
  {
   "cell_type": "code",
   "execution_count": 8,
   "id": "9fd24858-9c21-4b6f-8aae-60cd772b8bbf",
   "metadata": {},
   "outputs": [],
   "source": [
   "# 指定數值欄位並轉換成數值型態，無法轉換的值設為 NaN\n",
    "numeric_cols = ['age', 'fnlwgt', 'education-num', 'capital-gain', 'capital-loss', 'hours-per-week']\n",
    "data[numeric_cols] = data[numeric_cols].apply(pd.to_numeric, errors='coerce')"
   ]
  },
  {
   "cell_type": "code",
   "execution_count": 14,
   "id": "df8a1c27-288f-493c-a685-9df913f3a5d9",
   "metadata": {},
   "outputs": [
    {
     "name": "stdout",
     "output_type": "stream",
     "text": [
      "A) 重複列（群內所有列皆計） n_dup_all = 10\n",
      "B) 多出來的列（每組 k 計 k-1） n_dup_excess = 5\n",
      "C) 重複群組數 n_groups = 5\n",
      "C') 各組 group_size 加總 = 10 (應等於 A)\n",
      "\n",
      "=== Group 1 | size=2 | indices=[7022, 13849] ===\n",
      " row_index  0        1      2          3  4         5                  6              7      8     9 10 11 12             13      14  count\n",
      "      7022 30  Private 180317  Assoc-voc 11  Divorced  Machine-op-inspct  Not-in-family  White  Male  0  0 40  United-States  <=50K.      2\n",
      "     13849 30  Private 180317  Assoc-voc 11  Divorced  Machine-op-inspct  Not-in-family  White  Male  0  0 40  United-States  <=50K.      2\n",
      "\n",
      "=== Group 2 | size=2 | indices=[9250, 11213] ===\n",
      " row_index  0        1     2          3  4              5             6              7      8       9 10 11 12             13      14  count\n",
      "      9250 29  Private 36440  Bachelors 13  Never-married  Adm-clerical  Not-in-family  White  Female  0  0 40  United-States  <=50K.      2\n",
      "     11213 29  Private 36440  Bachelors 13  Never-married  Adm-clerical  Not-in-family  White  Female  0  0 40  United-States  <=50K.      2\n",
      "\n",
      "=== Group 3 | size=2 | indices=[489, 865] ===\n",
      " row_index  0        1      2          3  4              5               6              7      8     9 10 11 12             13      14  count\n",
      "       489 24  Private 194630  Bachelors 13  Never-married  Prof-specialty  Not-in-family  White  Male  0  0 35  United-States  <=50K.      2\n",
      "       865 24  Private 194630  Bachelors 13  Never-married  Prof-specialty  Not-in-family  White  Male  0  0 35  United-States  <=50K.      2\n",
      "\n",
      "=== Group 4 | size=2 | indices=[3901, 15961] ===\n",
      " row_index  0             1      2     3 4              5                6          7      8     9 10 11 12             13      14  count\n",
      "      3901 18  Self-emp-inc 378036  12th 8  Never-married  Farming-fishing  Own-child  White  Male  0  0 10  United-States  <=50K.      2\n",
      "     15961 18  Self-emp-inc 378036  12th 8  Never-married  Farming-fishing  Own-child  White  Male  0  0 10  United-States  <=50K.      2\n",
      "\n",
      "=== Group 5 | size=2 | indices=[1320, 11190] ===\n",
      " row_index  0        1     2          3  4                   5                6        7      8     9 10 11 12             13      14  count\n",
      "      1320 37  Private 52870  Bachelors 13  Married-civ-spouse  Exec-managerial  Husband  White  Male  0  0 40  United-States  <=50K.      2\n",
      "     11190 37  Private 52870  Bachelors 13  Married-civ-spouse  Exec-managerial  Husband  White  Male  0  0 40  United-States  <=50K.      2\n"
     ]
    }
   ],
   "source": [
   "# 重新讀取原始 CSV（無標題列），取得欄位數與欄位索引\n",
    "df_raw = pd.read_csv(CSV, header=None, na_filter=False, dtype=str)\n",
    "ncol = df_raw.shape[1]\n",
    "all_cols = list(range(ncol))\n",
    "CSV = \"adult.test.csv\"\n",
    "import numpy as np\n",
    "all_cols = list(range(df_raw.shape[1]))\n",
    "# 找出所有完全重複的資料列，建立重複群組編號\n",
    "vc = df_raw.value_counts().reset_index(name=\"count\")\n",
    "dups = vc[vc[\"count\"] > 1].copy()\n",
    "dups[\"group_id\"] = np.arange(1, len(dups) + 1)\n",
    "\n",
    "# 將重複群組與原資料對應，產出每組重複資料的索引\n",
    "dup_groups_members = (\n",
    "    df_raw.reset_index(names=\"row_index\")\n",
    "          .merge(dups, on=all_cols, how=\"inner\")\n",
    "          .sort_values([\"group_id\", \"row_index\"], kind=\"mergesort\")\n",
    ")\n",
    "\n",
    "# 彙整每個重複群組的大小與對應索引\n",
    "dup_groups_summary = (\n",
    "    dup_groups_members\n",
    "    .groupby(\"group_id\", as_index=False)\n",
    "    .agg(\n",
    "        group_size=(\"row_index\", \"size\"),\n",
    "        indices=(\"row_index\", lambda s: list(s))\n",
    "    )\n",
    ")\n",
    "# 統計重複資料筆數、群組數與重複總數\n",
    "n_dup_all = int(dup_groups_members.shape[0])\n",
    "n_dup_excess = int(df_raw.duplicated(keep='first').sum())\n",
    "n_groups = int(dup_groups_summary.shape[0])\n",
    "sum_group_sizes = int(dup_groups_summary[\"group_size\"].sum())\n",
    "\n",
    "print(\"A) 重複列（群內所有列皆計） n_dup_all =\", n_dup_all)\n",
    "print(\"B) 多出來的列（每組 k 計 k-1） n_dup_excess =\", n_dup_excess)\n",
    "print(\"C) 重複群組數 n_groups =\", n_groups)\n",
    "print(\"C') 各組 group_size 加總 =\", sum_group_sizes, \"(應等於 A)\")\n",
    "pd.set_option(\"display.max_columns\", None)\n",
    "pd.set_option(\"display.width\", 160)\n",
    "\n",
    "# 輸出每組重複資料的詳細內容（顯示重複的列）\n",
    "for gid, sub in dup_groups_members.groupby(\"group_id\", sort=True):\n",
    "    idxs = sub[\"row_index\"].tolist()\n",
    "    print(f\"\\n=== Group {gid} | size={len(sub)} | indices={idxs} ===\")\n",
    "    # 列出該組的每一列（移除 group_id 欄，保留原始各欄與 row_index）\n",
    "    print(sub.drop(columns=[\"group_id\"]).to_string(index=False))"
   ]
  },
  {
   "cell_type": "code",
   "execution_count": 15,
   "id": "3f6627d5-5b81-443f-88fb-55d6d9e9eb1f",
   "metadata": {},
   "outputs": [],
   "source": [
   "# 移除完全重複的資料列，保留唯一紀錄\n",
    "data = data.drop_duplicates()"
   ]
  },
  {
   "cell_type": "code",
   "execution_count": 16,
   "id": "64919d38-82a0-488e-9d19-8aa75d73daf6",
   "metadata": {},
   "outputs": [
    {
     "data": {
      "text/plain": [
       "np.int64(0)"
      ]
     },
     "execution_count": 16,
     "metadata": {},
     "output_type": "execute_result"
    }
   ],
   "source": [
   "# 計算重複筆數\n",
    "data.duplicated().sum()"
   ]
  },
  {
   "cell_type": "code",
   "execution_count": 39,
   "id": "fdb8efe8-4a40-464c-841a-eac2b76305f0",
   "metadata": {},
   "outputs": [
    {
     "data": {
      "text/plain": [
       "(16276, 15)"
      ]
     },
     "execution_count": 39,
     "metadata": {},
     "output_type": "execute_result"
    }
   ],
   "source": [
   "# 看看資料有幾筆、幾個欄位\n",
    "data.shape"
   ]
  },
  {
   "cell_type": "code",
   "execution_count": null,
   "id": "543c23c0-76e9-4a1e-9eb5-e62a5b5ddd43",
   "metadata": {},
   "outputs": [],
   "source": []
  }
 ],
 "metadata": {
  "kernelspec": {
   "display_name": "Python [conda env:base] *",
   "language": "python",
   "name": "conda-base-py"
  },
  "language_info": {
   "codemirror_mode": {
    "name": "ipython",
    "version": 3
   },
   "file_extension": ".py",
   "mimetype": "text/x-python",
   "name": "python",
   "nbconvert_exporter": "python",
   "pygments_lexer": "ipython3",
   "version": "3.13.5"
  }
 },
 "nbformat": 4,
 "nbformat_minor": 5
}
